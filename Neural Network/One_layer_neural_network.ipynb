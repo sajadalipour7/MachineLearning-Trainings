{
  "nbformat": 4,
  "nbformat_minor": 0,
  "metadata": {
    "colab": {
      "name": "One layer neural network.ipynb",
      "provenance": [],
      "collapsed_sections": [],
      "authorship_tag": "ABX9TyOGQZrNgXNmlPlrghSzc7zs",
      "include_colab_link": true
    },
    "kernelspec": {
      "name": "python3",
      "display_name": "Python 3"
    }
  },
  "cells": [
    {
      "cell_type": "markdown",
      "metadata": {
        "id": "view-in-github",
        "colab_type": "text"
      },
      "source": [
        "<a href=\"https://colab.research.google.com/github/sajadalipour7/MachineLearning-Trainings/blob/master/Neural%20Network/One_layer_neural_network.ipynb\" target=\"_parent\"><img src=\"https://colab.research.google.com/assets/colab-badge.svg\" alt=\"Open In Colab\"/></a>"
      ]
    },
    {
      "cell_type": "markdown",
      "metadata": {
        "id": "xCvVMtY4VCaq"
      },
      "source": [
        "One layer neural network"
      ]
    },
    {
      "cell_type": "code",
      "metadata": {
        "id": "0pRXvyoGW_bF"
      },
      "source": [
        "import numpy as np\r\n",
        "import matplotlib.pyplot as plt\r\n",
        "import pandas as pd"
      ],
      "execution_count": 18,
      "outputs": []
    },
    {
      "cell_type": "code",
      "metadata": {
        "id": "f-Hr28jWVDuo"
      },
      "source": [
        "np.random.seed(7)\r\n",
        "X=np.random.randn(2,3)\r\n",
        "Y=(np.random.randn(1,3) > 0)"
      ],
      "execution_count": 19,
      "outputs": []
    },
    {
      "cell_type": "code",
      "metadata": {
        "id": "6Ar_hkVnW-Iv"
      },
      "source": [
        "n_x=X.shape[0]\r\n",
        "n_h=4\r\n",
        "n_y=1"
      ],
      "execution_count": 20,
      "outputs": []
    },
    {
      "cell_type": "code",
      "metadata": {
        "id": "TU9TrjDNZdyi"
      },
      "source": [
        "np.random.seed(7)\r\n",
        "W1=np.random.randn(n_h,n_x)*0.01\r\n",
        "b1=np.zeros((n_h,1))\r\n",
        "W2=np.random.randn(n_y,n_h)*0.01\r\n",
        "b2=np.zeros((n_y,1))\r\n",
        "parameters={\"W1\":W1,\r\n",
        "            \"b1\":b1,\r\n",
        "            \"W2\":W2,\r\n",
        "            \"b2\":b2}"
      ],
      "execution_count": 28,
      "outputs": []
    },
    {
      "cell_type": "code",
      "metadata": {
        "id": "LXC_0kUfdGSm"
      },
      "source": [
        "def forward_propagation(X,parameters):\r\n",
        "    W1=parameters[\"W1\"]\r\n",
        "    b1=parameters[\"b1\"]\r\n",
        "    W2=parameters[\"W2\"]\r\n",
        "    b2=parameters[\"b2\"]\r\n",
        "\r\n",
        "    Z1=np.dot(W1.T,x)+b1\r\n",
        "    A1=np.tanh(Z1)\r\n",
        "    Z2=np.dot(W2.T,A1)+b2\r\n",
        "    A2=sigmoid(Z2)\r\n",
        "\r\n",
        "    ans={\"Z1\":Z1,\r\n",
        "         \"A1\":A1,\r\n",
        "         \"Z2\":Z2,\r\n",
        "         \"A2\":A2}\r\n",
        "\r\n",
        "    return ans"
      ],
      "execution_count": 31,
      "outputs": []
    },
    {
      "cell_type": "code",
      "metadata": {
        "id": "3_c2IM4UeFN-"
      },
      "source": [
        "def cost_function(A2,Y,parameters):\r\n",
        "    m=Y.shape[1]\r\n",
        "    W1=parameters[\"W1\"]\r\n",
        "    W2=parameters[\"W2\"]\r\n",
        "    logprobs=np.multiply(np.log(A2), Y) + np.multiply((1 - Y), np.log(1 - A2))\r\n",
        "    cost=-np.sum(logprobs)/m\r\n",
        "    cost=np.squeeze(cost)\r\n",
        "    \r\n",
        "    return cost"
      ],
      "execution_count": 34,
      "outputs": []
    },
    {
      "cell_type": "code",
      "metadata": {
        "id": "gsnhbUXVf6le"
      },
      "source": [
        "def backward_propagation():\r\n",
        "    pass"
      ],
      "execution_count": 35,
      "outputs": []
    },
    {
      "cell_type": "code",
      "metadata": {
        "id": "S8za3G7VgCTP"
      },
      "source": [
        ""
      ],
      "execution_count": null,
      "outputs": []
    }
  ]
}