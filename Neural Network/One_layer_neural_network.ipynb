{
  "nbformat": 4,
  "nbformat_minor": 0,
  "metadata": {
    "colab": {
      "name": "One layer neural network.ipynb",
      "provenance": [],
      "collapsed_sections": [],
      "authorship_tag": "ABX9TyM0Tyh27zh1qZk0n9HYocdt",
      "include_colab_link": true
    },
    "kernelspec": {
      "name": "python3",
      "display_name": "Python 3"
    }
  },
  "cells": [
    {
      "cell_type": "markdown",
      "metadata": {
        "id": "view-in-github",
        "colab_type": "text"
      },
      "source": [
        "<a href=\"https://colab.research.google.com/github/sajadalipour7/MachineLearning-Trainings/blob/master/Neural%20Network/One_layer_neural_network.ipynb\" target=\"_parent\"><img src=\"https://colab.research.google.com/assets/colab-badge.svg\" alt=\"Open In Colab\"/></a>"
      ]
    },
    {
      "cell_type": "markdown",
      "metadata": {
        "id": "xCvVMtY4VCaq"
      },
      "source": [
        "One layer neural network"
      ]
    },
    {
      "cell_type": "code",
      "metadata": {
        "id": "0pRXvyoGW_bF"
      },
      "source": [
        "import numpy as np\r\n",
        "import matplotlib.pyplot as plt\r\n",
        "import pandas as pd"
      ],
      "execution_count": 1,
      "outputs": []
    },
    {
      "cell_type": "code",
      "metadata": {
        "id": "f-Hr28jWVDuo",
        "colab": {
          "base_uri": "https://localhost:8080/"
        },
        "outputId": "14a7ce00-af58-4fd4-9968-f69ce75eb786"
      },
      "source": [
        "np.random.seed(7)\r\n",
        "X=np.random.randn(2,3)\r\n",
        "Y=(np.random.randn(1,3) > 0)\r\n",
        "Y"
      ],
      "execution_count": 26,
      "outputs": [
        {
          "output_type": "execute_result",
          "data": {
            "text/plain": [
              "array([[False, False,  True]])"
            ]
          },
          "metadata": {
            "tags": []
          },
          "execution_count": 26
        }
      ]
    },
    {
      "cell_type": "code",
      "metadata": {
        "id": "6Ar_hkVnW-Iv"
      },
      "source": [
        "n_x=X.shape[0]\r\n",
        "n_h=4\r\n",
        "n_y=1"
      ],
      "execution_count": 5,
      "outputs": []
    },
    {
      "cell_type": "code",
      "metadata": {
        "id": "TU9TrjDNZdyi"
      },
      "source": [
        "np.random.seed(7)\r\n",
        "W1=np.random.randn(n_h,n_x)*0.01\r\n",
        "b1=np.zeros((n_h,1))\r\n",
        "W2=np.random.randn(n_y,n_h)*0.01\r\n",
        "b2=np.zeros((n_y,1))\r\n",
        "parameters={\"W1\":W1,\r\n",
        "            \"b1\":b1,\r\n",
        "            \"W2\":W2,\r\n",
        "            \"b2\":b2}"
      ],
      "execution_count": 6,
      "outputs": []
    },
    {
      "cell_type": "code",
      "metadata": {
        "id": "bRNill5ThXiT"
      },
      "source": [
        "def sigmoid(a):\r\n",
        "    return 1/(1+np.exp(-a))"
      ],
      "execution_count": 21,
      "outputs": []
    },
    {
      "cell_type": "code",
      "metadata": {
        "id": "LXC_0kUfdGSm"
      },
      "source": [
        "def forward_propagation(X,parameters):\r\n",
        "    W1=parameters[\"W1\"]\r\n",
        "    b1=parameters[\"b1\"]\r\n",
        "    W2=parameters[\"W2\"]\r\n",
        "    b2=parameters[\"b2\"]\r\n",
        "\r\n",
        "    Z1=np.dot(W1,X)+b1\r\n",
        "    A1=np.tanh(Z1)\r\n",
        "    Z2=np.dot(W2,A1)+b2\r\n",
        "    A2=sigmoid(Z2)\r\n",
        "\r\n",
        "    ans={\"Z1\":Z1,\r\n",
        "         \"A1\":A1,\r\n",
        "         \"Z2\":Z2,\r\n",
        "         \"A2\":A2}\r\n",
        "\r\n",
        "    return ans"
      ],
      "execution_count": 19,
      "outputs": []
    },
    {
      "cell_type": "code",
      "metadata": {
        "id": "3_c2IM4UeFN-"
      },
      "source": [
        "def cost_function(A2,Y,parameters):\r\n",
        "    m=Y.shape[1]\r\n",
        "    W1=parameters[\"W1\"]\r\n",
        "    W2=parameters[\"W2\"]\r\n",
        "    logprobs=np.multiply(np.log(A2), Y) + np.multiply((1 - Y), np.log(1 - A2))\r\n",
        "    cost=-np.sum(logprobs)/m\r\n",
        "    cost=np.squeeze(cost)\r\n",
        "    \r\n",
        "    return cost"
      ],
      "execution_count": 8,
      "outputs": []
    },
    {
      "cell_type": "code",
      "metadata": {
        "id": "gsnhbUXVf6le"
      },
      "source": [
        "def backward_propagation(parameters,ans,X,Y):\r\n",
        "    m=X.shape[1]\r\n",
        "    W1=parameters[\"W1\"]\r\n",
        "    W2=parameters[\"W2\"]\r\n",
        "    A1=ans[\"A1\"]\r\n",
        "    A2=ans[\"A2\"]\r\n",
        "\r\n",
        "    dZ2=A2-Y\r\n",
        "    dW2 = (1 / m) * np.dot(dZ2, A1.T)\r\n",
        "    db2 = (1 / m) * np.sum(dZ2, axis=1, keepdims=True)\r\n",
        "    dZ1 = np.multiply(np.dot(W2.T, dZ2), 1 - np.power(A1, 2))\r\n",
        "    dW1 = (1 / m) * np.dot(dZ1, X.T)\r\n",
        "    db1 = (1 / m) * np.sum(dZ1, axis=1, keepdims=True)\r\n",
        "\r\n",
        "    grad={\"dW2\":dW2,\r\n",
        "          \"db2\":db2,\r\n",
        "          \"dW1\":dW1,\r\n",
        "          \"db1\":db1}\r\n",
        "    return grad"
      ],
      "execution_count": 9,
      "outputs": []
    },
    {
      "cell_type": "code",
      "metadata": {
        "id": "S8za3G7VgCTP"
      },
      "source": [
        "def update_weights(parameters,grad,alpha=1.2):\r\n",
        "    W1 = parameters['W1']\r\n",
        "    b1 = parameters['b1']\r\n",
        "    W2 = parameters['W2']\r\n",
        "    b2 = parameters['b2']\r\n",
        "    dW1 = grad['dW1']\r\n",
        "    db1 = grad['db1']\r\n",
        "    dW2 = grad['dW2']\r\n",
        "    db2 = grad['db2']\r\n",
        "\r\n",
        "    W1=W1-alpha*dW1\r\n",
        "    b1=b1-alpha*db1\r\n",
        "    W2=W2-alpha*dW2\r\n",
        "    b2=b2-alpha*db2\r\n",
        "\r\n",
        "    parameters={\"W1\": W1,\r\n",
        "                \"b1\": b1,\r\n",
        "                \"W2\": W2,\r\n",
        "                \"b2\": b2}\r\n",
        "\r\n",
        "    return parameters"
      ],
      "execution_count": 23,
      "outputs": []
    },
    {
      "cell_type": "code",
      "metadata": {
        "id": "-i61EjKNetJt"
      },
      "source": [
        "def learn(X,Y,n_h,n_x,n_y,parameters,number_of_iterations=10000):\r\n",
        "    np.random.seed(7)\r\n",
        "    W1 = parameters['W1']\r\n",
        "    b1 = parameters['b1']\r\n",
        "    W2 = parameters['W2']\r\n",
        "    b2 = parameters['b2']\r\n",
        "\r\n",
        "    for i in range(0,number_of_iterations):\r\n",
        "        ans=forward_propagation(X,parameters)\r\n",
        "        cost=cost_function(ans[\"A2\"],Y,parameters)\r\n",
        "        grad=backward_propagation(parameters,ans,X,Y)\r\n",
        "        parameters=update_weights(parameters,grad)\r\n",
        "\r\n",
        "        if i%1000==0 :\r\n",
        "            print(\"Cost after iteration \",i,\" : \",cost)\r\n",
        "    \r\n",
        "    return parameters\r\n"
      ],
      "execution_count": 13,
      "outputs": []
    },
    {
      "cell_type": "code",
      "metadata": {
        "id": "R-QySXABgNja"
      },
      "source": [
        "def predict(X,parameters):\r\n",
        "    ans=forward_propagation(X,parameters)\r\n",
        "    predictions=np.round(ans[\"A2\"])\r\n",
        "\r\n",
        "    return predictions"
      ],
      "execution_count": 15,
      "outputs": []
    },
    {
      "cell_type": "code",
      "metadata": {
        "colab": {
          "base_uri": "https://localhost:8080/"
        },
        "id": "5OGr7FKxgnV0",
        "outputId": "39003485-964e-41c0-8cbe-d3b118cd3c08"
      },
      "source": [
        "# learning section\r\n",
        "final_parameters=learn(X,Y,n_h,n_x,n_y,parameters)"
      ],
      "execution_count": 24,
      "outputs": [
        {
          "output_type": "stream",
          "text": [
            "Cost after iteration  0  :  0.6931910932927098\n",
            "Cost after iteration  1000  :  0.00048297115871386107\n",
            "Cost after iteration  2000  :  0.00021947220408798874\n",
            "Cost after iteration  3000  :  0.00014011600723116827\n",
            "Cost after iteration  4000  :  0.00010231323201515052\n",
            "Cost after iteration  5000  :  8.031720795527417e-05\n",
            "Cost after iteration  6000  :  6.597246589529615e-05\n",
            "Cost after iteration  7000  :  5.589828727155257e-05\n",
            "Cost after iteration  8000  :  4.844499836731032e-05\n",
            "Cost after iteration  9000  :  4.271337030389988e-05\n"
          ],
          "name": "stdout"
        }
      ]
    },
    {
      "cell_type": "code",
      "metadata": {
        "colab": {
          "base_uri": "https://localhost:8080/"
        },
        "id": "i3UeLshZhAwn",
        "outputId": "3fc113de-61a8-470a-e129-2eb6d88c9eec"
      },
      "source": [
        "predictions=predict(X,final_parameters)\r\n",
        "predictions"
      ],
      "execution_count": 25,
      "outputs": [
        {
          "output_type": "execute_result",
          "data": {
            "text/plain": [
              "array([[0., 0., 1.]])"
            ]
          },
          "metadata": {
            "tags": []
          },
          "execution_count": 25
        }
      ]
    },
    {
      "cell_type": "code",
      "metadata": {
        "id": "W_yXlz1bhxAE"
      },
      "source": [
        ""
      ],
      "execution_count": null,
      "outputs": []
    }
  ]
}