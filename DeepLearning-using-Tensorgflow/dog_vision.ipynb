{
  "nbformat": 4,
  "nbformat_minor": 0,
  "metadata": {
    "colab": {
      "name": "dog-vision.ipynb",
      "provenance": [],
      "mount_file_id": "1wcgIl5nWEVldtVzVhO3QOrE929P21AGv",
      "authorship_tag": "ABX9TyPPhfuEIExHRO5fi74cU7nN",
      "include_colab_link": true
    },
    "kernelspec": {
      "name": "python3",
      "display_name": "Python 3"
    },
    "accelerator": "GPU"
  },
  "cells": [
    {
      "cell_type": "markdown",
      "metadata": {
        "id": "view-in-github",
        "colab_type": "text"
      },
      "source": [
        "<a href=\"https://colab.research.google.com/github/sajadalipour7/MachineLearning-Trainings/blob/master/DeepLearning-using-Tensorgflow/dog_vision.ipynb\" target=\"_parent\"><img src=\"https://colab.research.google.com/assets/colab-badge.svg\" alt=\"Open In Colab\"/></a>"
      ]
    },
    {
      "cell_type": "markdown",
      "metadata": {
        "id": "v4IlbVI6Ea9B",
        "colab_type": "text"
      },
      "source": [
        "# Dog End-to-end Multi-class Dog Breed Classification\n",
        "\n",
        "This notebook builds an end-to-end multi-class image classifier using TensorFlow 2.0 and TensorFlow Hub.\n",
        "\n",
        "## 1. Problem\n",
        "\n",
        "Identifying the breed of a dog given an image of a dog.\n",
        "\n",
        "When I'm sitting at the cafe and I take a photo of a dog, I want to know what breed of dog it is.\n",
        "\n",
        "## 2. Data\n",
        "\n",
        "The data we're using is from Kaggle's dog breed identification competition.\n",
        "\n",
        "## 3. Evaluation\n",
        "\n",
        "The evaluation is a file with prediction probabilities for each dog breed for each test image.\n",
        "\n",
        "## 4. Features\n",
        "\n",
        "Some information about the data:\n",
        "* We're dealing with images (unstructured data)  so it's probably best we use deep learning/transfer learning.\n",
        "* There are 120 breeds of dogs (this means there are 120 different classes).\n",
        "* There are around 10,000+ images in the training set(these images have labels)\n",
        "* There are around 10,000+ images in the test set(these images have no labels, because we'll want to predict them)."
      ]
    },
    {
      "cell_type": "code",
      "metadata": {
        "id": "ckOSWhkU5o6Q",
        "colab_type": "code",
        "colab": {}
      },
      "source": [
        "# Unzip the uploaded data into Google Drive\n",
        "#!unzip \"/content/drive/My Drive/Dog Vision/dog-breed-identification.zip\" -d \"/content/drive/My Drive/Dog Vision/\""
      ],
      "execution_count": 1,
      "outputs": []
    },
    {
      "cell_type": "markdown",
      "metadata": {
        "id": "Z12i9CeSHlJP",
        "colab_type": "text"
      },
      "source": [
        "### Get our workspace ready\n",
        "\n",
        "* Import TensorFlow 2.x \n",
        "* Import TensorFlow Hub\n",
        "* Make sure we're using a GPU\n"
      ]
    },
    {
      "cell_type": "code",
      "metadata": {
        "id": "uNEzvSiCmQaU",
        "colab_type": "code",
        "colab": {
          "base_uri": "https://localhost:8080/",
          "height": 34
        },
        "outputId": "aca94ca2-ef99-45d9-c03c-1e3c0a2ab7a5"
      },
      "source": [
        "# Import TensorFlow into Colab\n",
        "import tensorflow as tf\n",
        "print(\"TF version:\",tf.__version__)"
      ],
      "execution_count": 2,
      "outputs": [
        {
          "output_type": "stream",
          "text": [
            "TF version: 2.3.0\n"
          ],
          "name": "stdout"
        }
      ]
    },
    {
      "cell_type": "code",
      "metadata": {
        "id": "35SbyJ8DH33f",
        "colab_type": "code",
        "colab": {
          "base_uri": "https://localhost:8080/",
          "height": 50
        },
        "outputId": "8b9b0522-09bd-46a2-f42e-d3ba2d0fbd1e"
      },
      "source": [
        "import tensorflow_hub as hub\n",
        "print(\"TF Hub version:\",hub.__version__)\n",
        "\n",
        "# Check for GPU availability\n",
        "print(\"GPU\",\"available!\" if tf.config.list_physical_devices(\"GPU\") else \"not available!\")"
      ],
      "execution_count": 3,
      "outputs": [
        {
          "output_type": "stream",
          "text": [
            "TF Hub version: 0.9.0\n",
            "GPU available!\n"
          ],
          "name": "stdout"
        }
      ]
    },
    {
      "cell_type": "markdown",
      "metadata": {
        "id": "rsz12-AXes42",
        "colab_type": "text"
      },
      "source": [
        "## Getting our data ready (turning into Tensors)\n",
        "\n",
        "With all machine learning models, our data has to be in numerical format. So that's what we'll be doing first. Turning our images into Tensors (numerical representation)\n",
        "\n",
        "Let's start by accessing our data and checking out the labels."
      ]
    },
    {
      "cell_type": "code",
      "metadata": {
        "id": "wM_PVKlufXYB",
        "colab_type": "code",
        "colab": {
          "base_uri": "https://localhost:8080/",
          "height": 202
        },
        "outputId": "9b4f0634-ea42-4910-8f54-3287f32d4b96"
      },
      "source": [
        "# Checkout the labels of our data\n",
        "import pandas as pd\n",
        "labels_csv=pd.read_csv(\"drive/My Drive/Dog Vision/labels.csv\")\n",
        "print(labels_csv.describe())\n",
        "print(labels_csv.head())"
      ],
      "execution_count": 4,
      "outputs": [
        {
          "output_type": "stream",
          "text": [
            "                                      id               breed\n",
            "count                              10222               10222\n",
            "unique                             10222                 120\n",
            "top     50c8080ab39f865bebfb05b20b5992c4  scottish_deerhound\n",
            "freq                                   1                 126\n",
            "                                 id             breed\n",
            "0  000bec180eb18c7604dcecc8fe0dba07       boston_bull\n",
            "1  001513dfcb2ffafc82cccf4d8bbaba97             dingo\n",
            "2  001cdf01b096e06d78e9e5112d419397          pekinese\n",
            "3  00214f311d5d2247d5dfe4fe24b2303d          bluetick\n",
            "4  0021f9ceb3235effd7fcde7f7538ed62  golden_retriever\n"
          ],
          "name": "stdout"
        }
      ]
    },
    {
      "cell_type": "code",
      "metadata": {
        "id": "E2tHN3b1f2LL",
        "colab_type": "code",
        "colab": {
          "base_uri": "https://localhost:8080/",
          "height": 195
        },
        "outputId": "bee0c21b-8420-4dff-d0af-286136294eaf"
      },
      "source": [
        "labels_csv.head()"
      ],
      "execution_count": 5,
      "outputs": [
        {
          "output_type": "execute_result",
          "data": {
            "text/html": [
              "<div>\n",
              "<style scoped>\n",
              "    .dataframe tbody tr th:only-of-type {\n",
              "        vertical-align: middle;\n",
              "    }\n",
              "\n",
              "    .dataframe tbody tr th {\n",
              "        vertical-align: top;\n",
              "    }\n",
              "\n",
              "    .dataframe thead th {\n",
              "        text-align: right;\n",
              "    }\n",
              "</style>\n",
              "<table border=\"1\" class=\"dataframe\">\n",
              "  <thead>\n",
              "    <tr style=\"text-align: right;\">\n",
              "      <th></th>\n",
              "      <th>id</th>\n",
              "      <th>breed</th>\n",
              "    </tr>\n",
              "  </thead>\n",
              "  <tbody>\n",
              "    <tr>\n",
              "      <th>0</th>\n",
              "      <td>000bec180eb18c7604dcecc8fe0dba07</td>\n",
              "      <td>boston_bull</td>\n",
              "    </tr>\n",
              "    <tr>\n",
              "      <th>1</th>\n",
              "      <td>001513dfcb2ffafc82cccf4d8bbaba97</td>\n",
              "      <td>dingo</td>\n",
              "    </tr>\n",
              "    <tr>\n",
              "      <th>2</th>\n",
              "      <td>001cdf01b096e06d78e9e5112d419397</td>\n",
              "      <td>pekinese</td>\n",
              "    </tr>\n",
              "    <tr>\n",
              "      <th>3</th>\n",
              "      <td>00214f311d5d2247d5dfe4fe24b2303d</td>\n",
              "      <td>bluetick</td>\n",
              "    </tr>\n",
              "    <tr>\n",
              "      <th>4</th>\n",
              "      <td>0021f9ceb3235effd7fcde7f7538ed62</td>\n",
              "      <td>golden_retriever</td>\n",
              "    </tr>\n",
              "  </tbody>\n",
              "</table>\n",
              "</div>"
            ],
            "text/plain": [
              "                                 id             breed\n",
              "0  000bec180eb18c7604dcecc8fe0dba07       boston_bull\n",
              "1  001513dfcb2ffafc82cccf4d8bbaba97             dingo\n",
              "2  001cdf01b096e06d78e9e5112d419397          pekinese\n",
              "3  00214f311d5d2247d5dfe4fe24b2303d          bluetick\n",
              "4  0021f9ceb3235effd7fcde7f7538ed62  golden_retriever"
            ]
          },
          "metadata": {
            "tags": []
          },
          "execution_count": 5
        }
      ]
    },
    {
      "cell_type": "code",
      "metadata": {
        "id": "oyUNYmUZgDW3",
        "colab_type": "code",
        "colab": {
          "base_uri": "https://localhost:8080/",
          "height": 434
        },
        "outputId": "1bf02068-137a-462c-dcaf-1f3a5215ec3a"
      },
      "source": [
        "# How many images are there of each bread?\n",
        "labels_csv[\"breed\"].value_counts().plot.bar(figsize=(20,10))"
      ],
      "execution_count": 6,
      "outputs": [
        {
          "output_type": "execute_result",
          "data": {
            "text/plain": [
              "<matplotlib.axes._subplots.AxesSubplot at 0x7f9d71615ba8>"
            ]
          },
          "metadata": {
            "tags": []
          },
          "execution_count": 6
        },
        {
          "output_type": "display_data",
          "data": {
            "image/png": "[encoded data removed]",
            "text/plain": [
              "<Figure size 1440x720 with 1 Axes>"
            ]
          },
          "metadata": {
            "tags": [],
            "needs_background": "light"
          }
        }
      ]
    },
    {
      "cell_type": "code",
      "metadata": {
        "id": "xhv5MHBNgcnw",
        "colab_type": "code",
        "colab": {
          "base_uri": "https://localhost:8080/",
          "height": 34
        },
        "outputId": "d1e47ad6-2f88-4070-f686-7cf6c39c330d"
      },
      "source": [
        "labels_csv[\"breed\"].value_counts().median()"
      ],
      "execution_count": 7,
      "outputs": [
        {
          "output_type": "execute_result",
          "data": {
            "text/plain": [
              "82.0"
            ]
          },
          "metadata": {
            "tags": []
          },
          "execution_count": 7
        }
      ]
    },
    {
      "cell_type": "code",
      "metadata": {
        "id": "zp8r-td4gsVH",
        "colab_type": "code",
        "colab": {
          "base_uri": "https://localhost:8080/",
          "height": 34
        },
        "outputId": "dfa9f7ee-8e92-45a6-ff3c-e223c53fd48d"
      },
      "source": [
        "min(labels_csv[\"breed\"].value_counts())"
      ],
      "execution_count": 8,
      "outputs": [
        {
          "output_type": "execute_result",
          "data": {
            "text/plain": [
              "66"
            ]
          },
          "metadata": {
            "tags": []
          },
          "execution_count": 8
        }
      ]
    },
    {
      "cell_type": "code",
      "metadata": {
        "id": "9ZwGrssMg6tb",
        "colab_type": "code",
        "colab": {
          "base_uri": "https://localhost:8080/",
          "height": 392
        },
        "outputId": "a8166572-dd5b-4635-b0a4-d6d7370ea380"
      },
      "source": [
        "# Let's view an image\n",
        "from IPython.display import Image\n",
        "Image(\"drive/My Drive/Dog Vision/train/001513dfcb2ffafc82cccf4d8bbaba97.jpg\")"
      ],
      "execution_count": 9,
      "outputs": [
        {
          "output_type": "execute_result",
          "data": {
            "image/png": "[encoded data removed]",
            "text/plain": [
              "<IPython.core.display.Image object>"
            ]
          },
          "metadata": {
            "tags": []
          },
          "execution_count": 9
        }
      ]
    },
    {
      "cell_type": "markdown",
      "metadata": {
        "id": "Lq9EDGYGlC_7",
        "colab_type": "text"
      },
      "source": [
        "### Getting images and their labels\n",
        "\n",
        "Let's get a list of all of our image file pathnames."
      ]
    },
    {
      "cell_type": "code",
      "metadata": {
        "id": "pyiBZotBllZ0",
        "colab_type": "code",
        "colab": {
          "base_uri": "https://localhost:8080/",
          "height": 195
        },
        "outputId": "fe598bfb-c6c5-43d6-928e-e4457e286399"
      },
      "source": [
        "labels_csv.head()"
      ],
      "execution_count": 10,
      "outputs": [
        {
          "output_type": "execute_result",
          "data": {
            "text/html": [
              "<div>\n",
              "<style scoped>\n",
              "    .dataframe tbody tr th:only-of-type {\n",
              "        vertical-align: middle;\n",
              "    }\n",
              "\n",
              "    .dataframe tbody tr th {\n",
              "        vertical-align: top;\n",
              "    }\n",
              "\n",
              "    .dataframe thead th {\n",
              "        text-align: right;\n",
              "    }\n",
              "</style>\n",
              "<table border=\"1\" class=\"dataframe\">\n",
              "  <thead>\n",
              "    <tr style=\"text-align: right;\">\n",
              "      <th></th>\n",
              "      <th>id</th>\n",
              "      <th>breed</th>\n",
              "    </tr>\n",
              "  </thead>\n",
              "  <tbody>\n",
              "    <tr>\n",
              "      <th>0</th>\n",
              "      <td>000bec180eb18c7604dcecc8fe0dba07</td>\n",
              "      <td>boston_bull</td>\n",
              "    </tr>\n",
              "    <tr>\n",
              "      <th>1</th>\n",
              "      <td>001513dfcb2ffafc82cccf4d8bbaba97</td>\n",
              "      <td>dingo</td>\n",
              "    </tr>\n",
              "    <tr>\n",
              "      <th>2</th>\n",
              "      <td>001cdf01b096e06d78e9e5112d419397</td>\n",
              "      <td>pekinese</td>\n",
              "    </tr>\n",
              "    <tr>\n",
              "      <th>3</th>\n",
              "      <td>00214f311d5d2247d5dfe4fe24b2303d</td>\n",
              "      <td>bluetick</td>\n",
              "    </tr>\n",
              "    <tr>\n",
              "      <th>4</th>\n",
              "      <td>0021f9ceb3235effd7fcde7f7538ed62</td>\n",
              "      <td>golden_retriever</td>\n",
              "    </tr>\n",
              "  </tbody>\n",
              "</table>\n",
              "</div>"
            ],
            "text/plain": [
              "                                 id             breed\n",
              "0  000bec180eb18c7604dcecc8fe0dba07       boston_bull\n",
              "1  001513dfcb2ffafc82cccf4d8bbaba97             dingo\n",
              "2  001cdf01b096e06d78e9e5112d419397          pekinese\n",
              "3  00214f311d5d2247d5dfe4fe24b2303d          bluetick\n",
              "4  0021f9ceb3235effd7fcde7f7538ed62  golden_retriever"
            ]
          },
          "metadata": {
            "tags": []
          },
          "execution_count": 10
        }
      ]
    },
    {
      "cell_type": "code",
      "metadata": {
        "id": "GggHahcQlmzU",
        "colab_type": "code",
        "colab": {
          "base_uri": "https://localhost:8080/",
          "height": 185
        },
        "outputId": "e1b433a3-77b5-4119-d2c5-69c1378bc376"
      },
      "source": [
        "# Create pathnames from image ID's\n",
        "filenames=[\"drive/My Drive/Dog Vision/train/\"+fname+\".jpg\" for fname in labels_csv[\"id\"]]\n",
        "\n",
        "# Check the first 10\n",
        "filenames[:10]"
      ],
      "execution_count": 11,
      "outputs": [
        {
          "output_type": "execute_result",
          "data": {
            "text/plain": [
              "['drive/My Drive/Dog Vision/train/000bec180eb18c7604dcecc8fe0dba07.jpg',\n",
              " 'drive/My Drive/Dog Vision/train/001513dfcb2ffafc82cccf4d8bbaba97.jpg',\n",
              " 'drive/My Drive/Dog Vision/train/001cdf01b096e06d78e9e5112d419397.jpg',\n",
              " 'drive/My Drive/Dog Vision/train/00214f311d5d2247d5dfe4fe24b2303d.jpg',\n",
              " 'drive/My Drive/Dog Vision/train/0021f9ceb3235effd7fcde7f7538ed62.jpg',\n",
              " 'drive/My Drive/Dog Vision/train/002211c81b498ef88e1b40b9abf84e1d.jpg',\n",
              " 'drive/My Drive/Dog Vision/train/00290d3e1fdd27226ba27a8ce248ce85.jpg',\n",
              " 'drive/My Drive/Dog Vision/train/002a283a315af96eaea0e28e7163b21b.jpg',\n",
              " 'drive/My Drive/Dog Vision/train/003df8b8a8b05244b1d920bb6cf451f9.jpg',\n",
              " 'drive/My Drive/Dog Vision/train/0042188c895a2f14ef64a918ed9c7b64.jpg']"
            ]
          },
          "metadata": {
            "tags": []
          },
          "execution_count": 11
        }
      ]
    },
    {
      "cell_type": "code",
      "metadata": {
        "id": "jQkF02ZOl9T5",
        "colab_type": "code",
        "colab": {
          "base_uri": "https://localhost:8080/",
          "height": 34
        },
        "outputId": "93df761e-dace-403e-fec3-a92dc473cc84"
      },
      "source": [
        "# Check weather number of filenames matches number of actual image files\n",
        "import os\n",
        "if len(os.listdir(\"drive/My Drive/Dog Vision/train/\"))==len(filenames):\n",
        "  print(\"Filenames match amount\")\n",
        "else:\n",
        "  print(\"Filenames don't match amount\")"
      ],
      "execution_count": 12,
      "outputs": [
        {
          "output_type": "stream",
          "text": [
            "Filenames match amount\n"
          ],
          "name": "stdout"
        }
      ]
    },
    {
      "cell_type": "code",
      "metadata": {
        "id": "yd-7uSNJnlSS",
        "colab_type": "code",
        "colab": {
          "base_uri": "https://localhost:8080/",
          "height": 617
        },
        "outputId": "eef724a1-0e01-4c1d-fe6f-4b1177cba717"
      },
      "source": [
        "# One more check\n",
        "Image(filenames[9000])"
      ],
      "execution_count": 13,
      "outputs": [
        {
          "output_type": "execute_result",
          "data": {
            "image/jpeg": "[encoded data removed]",
            "text/plain": [
              "<IPython.core.display.Image object>"
            ]
          },
          "metadata": {
            "tags": []
          },
          "execution_count": 13
        }
      ]
    },
    {
      "cell_type": "code",
      "metadata": {
        "id": "kpJpmhLqn1mu",
        "colab_type": "code",
        "colab": {
          "base_uri": "https://localhost:8080/",
          "height": 35
        },
        "outputId": "c96c9faf-5d46-41db-fc8a-45143f462511"
      },
      "source": [
        "labels_csv[\"breed\"][9000]"
      ],
      "execution_count": 14,
      "outputs": [
        {
          "output_type": "execute_result",
          "data": {
            "application/vnd.google.colaboratory.intrinsic+json": {
              "type": "string"
            },
            "text/plain": [
              "'tibetan_mastiff'"
            ]
          },
          "metadata": {
            "tags": []
          },
          "execution_count": 14
        }
      ]
    },
    {
      "cell_type": "markdown",
      "metadata": {
        "id": "3E51aY2xn4Xe",
        "colab_type": "text"
      },
      "source": [
        "Since we've got our training image filepaths in a list, let's prepare our labels."
      ]
    },
    {
      "cell_type": "code",
      "metadata": {
        "id": "hu0c1AdcofP1",
        "colab_type": "code",
        "colab": {
          "base_uri": "https://localhost:8080/",
          "height": 50
        },
        "outputId": "071e154c-387e-4804-954b-c329532b0696"
      },
      "source": [
        "import numpy as np\n",
        "labels=labels_csv[\"breed\"].to_numpy()\n",
        "# labels=np.array(labels) # does same thing as above\n",
        "labels"
      ],
      "execution_count": 15,
      "outputs": [
        {
          "output_type": "execute_result",
          "data": {
            "text/plain": [
              "array(['boston_bull', 'dingo', 'pekinese', ..., 'airedale',\n",
              "       'miniature_pinscher', 'chesapeake_bay_retriever'], dtype=object)"
            ]
          },
          "metadata": {
            "tags": []
          },
          "execution_count": 15
        }
      ]
    },
    {
      "cell_type": "code",
      "metadata": {
        "id": "w4dcTSjPoi6Q",
        "colab_type": "code",
        "colab": {
          "base_uri": "https://localhost:8080/",
          "height": 34
        },
        "outputId": "099b4346-6f7d-4428-f55a-08de3bd0c18c"
      },
      "source": [
        "len(labels)"
      ],
      "execution_count": 16,
      "outputs": [
        {
          "output_type": "execute_result",
          "data": {
            "text/plain": [
              "10222"
            ]
          },
          "metadata": {
            "tags": []
          },
          "execution_count": 16
        }
      ]
    },
    {
      "cell_type": "code",
      "metadata": {
        "id": "04wNzayzoryy",
        "colab_type": "code",
        "colab": {
          "base_uri": "https://localhost:8080/",
          "height": 34
        },
        "outputId": "1b087b87-36ee-4774-9747-37ceb5859362"
      },
      "source": [
        "# See if number of labels matches the number of filenames\n",
        "if len(labels)==len(filenames):\n",
        "  print(\"matched!\")\n",
        "else:\n",
        "  print(\"doesn't match\")"
      ],
      "execution_count": 17,
      "outputs": [
        {
          "output_type": "stream",
          "text": [
            "matched!\n"
          ],
          "name": "stdout"
        }
      ]
    },
    {
      "cell_type": "code",
      "metadata": {
        "id": "xDQU-09-pKJE",
        "colab_type": "code",
        "colab": {
          "base_uri": "https://localhost:8080/",
          "height": 622
        },
        "outputId": "72be7d36-bf16-4890-d83b-7abae7144146"
      },
      "source": [
        "# Find the unique label values\n",
        "unique_breeds=np.unique(labels)\n",
        "unique_breeds"
      ],
      "execution_count": 18,
      "outputs": [
        {
          "output_type": "execute_result",
          "data": {
            "text/plain": [
              "array(['affenpinscher', 'afghan_hound', 'african_hunting_dog', 'airedale',\n",
              "       'american_staffordshire_terrier', 'appenzeller',\n",
              "       'australian_terrier', 'basenji', 'basset', 'beagle',\n",
              "       'bedlington_terrier', 'bernese_mountain_dog',\n",
              "       'black-and-tan_coonhound', 'blenheim_spaniel', 'bloodhound',\n",
              "       'bluetick', 'border_collie', 'border_terrier', 'borzoi',\n",
              "       'boston_bull', 'bouvier_des_flandres', 'boxer',\n",
              "       'brabancon_griffon', 'briard', 'brittany_spaniel', 'bull_mastiff',\n",
              "       'cairn', 'cardigan', 'chesapeake_bay_retriever', 'chihuahua',\n",
              "       'chow', 'clumber', 'cocker_spaniel', 'collie',\n",
              "       'curly-coated_retriever', 'dandie_dinmont', 'dhole', 'dingo',\n",
              "       'doberman', 'english_foxhound', 'english_setter',\n",
              "       'english_springer', 'entlebucher', 'eskimo_dog',\n",
              "       'flat-coated_retriever', 'french_bulldog', 'german_shepherd',\n",
              "       'german_short-haired_pointer', 'giant_schnauzer',\n",
              "       'golden_retriever', 'gordon_setter', 'great_dane',\n",
              "       'great_pyrenees', 'greater_swiss_mountain_dog', 'groenendael',\n",
              "       'ibizan_hound', 'irish_setter', 'irish_terrier',\n",
              "       'irish_water_spaniel', 'irish_wolfhound', 'italian_greyhound',\n",
              "       'japanese_spaniel', 'keeshond', 'kelpie', 'kerry_blue_terrier',\n",
              "       'komondor', 'kuvasz', 'labrador_retriever', 'lakeland_terrier',\n",
              "       'leonberg', 'lhasa', 'malamute', 'malinois', 'maltese_dog',\n",
              "       'mexican_hairless', 'miniature_pinscher', 'miniature_poodle',\n",
              "       'miniature_schnauzer', 'newfoundland', 'norfolk_terrier',\n",
              "       'norwegian_elkhound', 'norwich_terrier', 'old_english_sheepdog',\n",
              "       'otterhound', 'papillon', 'pekinese', 'pembroke', 'pomeranian',\n",
              "       'pug', 'redbone', 'rhodesian_ridgeback', 'rottweiler',\n",
              "       'saint_bernard', 'saluki', 'samoyed', 'schipperke',\n",
              "       'scotch_terrier', 'scottish_deerhound', 'sealyham_terrier',\n",
              "       'shetland_sheepdog', 'shih-tzu', 'siberian_husky', 'silky_terrier',\n",
              "       'soft-coated_wheaten_terrier', 'staffordshire_bullterrier',\n",
              "       'standard_poodle', 'standard_schnauzer', 'sussex_spaniel',\n",
              "       'tibetan_mastiff', 'tibetan_terrier', 'toy_poodle', 'toy_terrier',\n",
              "       'vizsla', 'walker_hound', 'weimaraner', 'welsh_springer_spaniel',\n",
              "       'west_highland_white_terrier', 'whippet',\n",
              "       'wire-haired_fox_terrier', 'yorkshire_terrier'], dtype=object)"
            ]
          },
          "metadata": {
            "tags": []
          },
          "execution_count": 18
        }
      ]
    },
    {
      "cell_type": "code",
      "metadata": {
        "id": "6NKpz5gfpcNV",
        "colab_type": "code",
        "colab": {
          "base_uri": "https://localhost:8080/",
          "height": 34
        },
        "outputId": "9e7c9da2-1664-4ef6-9e0b-9bf6f2402b02"
      },
      "source": [
        "len(unique_breeds)"
      ],
      "execution_count": 19,
      "outputs": [
        {
          "output_type": "execute_result",
          "data": {
            "text/plain": [
              "120"
            ]
          },
          "metadata": {
            "tags": []
          },
          "execution_count": 19
        }
      ]
    },
    {
      "cell_type": "code",
      "metadata": {
        "id": "2gsRZk9hpfq6",
        "colab_type": "code",
        "colab": {
          "base_uri": "https://localhost:8080/",
          "height": 269
        },
        "outputId": "55a49d38-068c-4b4a-a172-94e5ce0110b8"
      },
      "source": [
        "# Turn a single label into an array of booleans\n",
        "print(labels[0])\n",
        "labels[0]==unique_breeds"
      ],
      "execution_count": 20,
      "outputs": [
        {
          "output_type": "stream",
          "text": [
            "boston_bull\n"
          ],
          "name": "stdout"
        },
        {
          "output_type": "execute_result",
          "data": {
            "text/plain": [
              "array([False, False, False, False, False, False, False, False, False,\n",
              "       False, False, False, False, False, False, False, False, False,\n",
              "       False,  True, False, False, False, False, False, False, False,\n",
              "       False, False, False, False, False, False, False, False, False,\n",
              "       False, False, False, False, False, False, False, False, False,\n",
              "       False, False, False, False, False, False, False, False, False,\n",
              "       False, False, False, False, False, False, False, False, False,\n",
              "       False, False, False, False, False, False, False, False, False,\n",
              "       False, False, False, False, False, False, False, False, False,\n",
              "       False, False, False, False, False, False, False, False, False,\n",
              "       False, False, False, False, False, False, False, False, False,\n",
              "       False, False, False, False, False, False, False, False, False,\n",
              "       False, False, False, False, False, False, False, False, False,\n",
              "       False, False, False])"
            ]
          },
          "metadata": {
            "tags": []
          },
          "execution_count": 20
        }
      ]
    },
    {
      "cell_type": "code",
      "metadata": {
        "id": "b4wrRxSyqs-j",
        "colab_type": "code",
        "colab": {
          "base_uri": "https://localhost:8080/",
          "height": 487
        },
        "outputId": "229bfcd8-b345-485c-d942-c01f2be22099"
      },
      "source": [
        "# Turn every label into a boolean array\n",
        "boolean_labels=[label==unique_breeds for label in labels]\n",
        "boolean_labels[:2]"
      ],
      "execution_count": 21,
      "outputs": [
        {
          "output_type": "execute_result",
          "data": {
            "text/plain": [
              "[array([False, False, False, False, False, False, False, False, False,\n",
              "        False, False, False, False, False, False, False, False, False,\n",
              "        False,  True, False, False, False, False, False, False, False,\n",
              "        False, False, False, False, False, False, False, False, False,\n",
              "        False, False, False, False, False, False, False, False, False,\n",
              "        False, False, False, False, False, False, False, False, False,\n",
              "        False, False, False, False, False, False, False, False, False,\n",
              "        False, False, False, False, False, False, False, False, False,\n",
              "        False, False, False, False, False, False, False, False, False,\n",
              "        False, False, False, False, False, False, False, False, False,\n",
              "        False, False, False, False, False, False, False, False, False,\n",
              "        False, False, False, False, False, False, False, False, False,\n",
              "        False, False, False, False, False, False, False, False, False,\n",
              "        False, False, False]),\n",
              " array([False, False, False, False, False, False, False, False, False,\n",
              "        False, False, False, False, False, False, False, False, False,\n",
              "        False, False, False, False, False, False, False, False, False,\n",
              "        False, False, False, False, False, False, False, False, False,\n",
              "        False,  True, False, False, False, False, False, False, False,\n",
              "        False, False, False, False, False, False, False, False, False,\n",
              "        False, False, False, False, False, False, False, False, False,\n",
              "        False, False, False, False, False, False, False, False, False,\n",
              "        False, False, False, False, False, False, False, False, False,\n",
              "        False, False, False, False, False, False, False, False, False,\n",
              "        False, False, False, False, False, False, False, False, False,\n",
              "        False, False, False, False, False, False, False, False, False,\n",
              "        False, False, False, False, False, False, False, False, False,\n",
              "        False, False, False])]"
            ]
          },
          "metadata": {
            "tags": []
          },
          "execution_count": 21
        }
      ]
    },
    {
      "cell_type": "code",
      "metadata": {
        "id": "JxG965WmrDGd",
        "colab_type": "code",
        "colab": {
          "base_uri": "https://localhost:8080/",
          "height": 34
        },
        "outputId": "1074f5e6-26dd-4d64-e8b3-c0d6a4f6dfdc"
      },
      "source": [
        "len(boolean_labels)"
      ],
      "execution_count": 22,
      "outputs": [
        {
          "output_type": "execute_result",
          "data": {
            "text/plain": [
              "10222"
            ]
          },
          "metadata": {
            "tags": []
          },
          "execution_count": 22
        }
      ]
    },
    {
      "cell_type": "code",
      "metadata": {
        "id": "KnHqw9OhrJF8",
        "colab_type": "code",
        "colab": {
          "base_uri": "https://localhost:8080/",
          "height": 134
        },
        "outputId": "8bc178b6-52f5-435c-f106-e2f18c55cca1"
      },
      "source": [
        "# Example: Turning boolean array into integers\n",
        "print(labels[0]) # original label\n",
        "print(np.where(unique_breeds==labels[0])) # index where label occurs\n",
        "print(boolean_labels[0].argmax()) # index where label occurs in boolean array\n",
        "print(boolean_labels[0].astype(int)) # there will be a 1 where the sample label occurs"
      ],
      "execution_count": 23,
      "outputs": [
        {
          "output_type": "stream",
          "text": [
            "boston_bull\n",
            "(array([19]),)\n",
            "19\n",
            "[0 0 0 0 0 0 0 0 0 0 0 0 0 0 0 0 0 0 0 1 0 0 0 0 0 0 0 0 0 0 0 0 0 0 0 0 0\n",
            " 0 0 0 0 0 0 0 0 0 0 0 0 0 0 0 0 0 0 0 0 0 0 0 0 0 0 0 0 0 0 0 0 0 0 0 0 0\n",
            " 0 0 0 0 0 0 0 0 0 0 0 0 0 0 0 0 0 0 0 0 0 0 0 0 0 0 0 0 0 0 0 0 0 0 0 0 0\n",
            " 0 0 0 0 0 0 0 0 0]\n"
          ],
          "name": "stdout"
        }
      ]
    },
    {
      "cell_type": "code",
      "metadata": {
        "id": "5dkVJ01mr1TZ",
        "colab_type": "code",
        "colab": {
          "base_uri": "https://localhost:8080/",
          "height": 101
        },
        "outputId": "ab5db40c-2555-481c-e738-8aec2f269c4f"
      },
      "source": [
        "print(labels[2])\n",
        "print(boolean_labels[2].astype(int))"
      ],
      "execution_count": 24,
      "outputs": [
        {
          "output_type": "stream",
          "text": [
            "pekinese\n",
            "[0 0 0 0 0 0 0 0 0 0 0 0 0 0 0 0 0 0 0 0 0 0 0 0 0 0 0 0 0 0 0 0 0 0 0 0 0\n",
            " 0 0 0 0 0 0 0 0 0 0 0 0 0 0 0 0 0 0 0 0 0 0 0 0 0 0 0 0 0 0 0 0 0 0 0 0 0\n",
            " 0 0 0 0 0 0 0 0 0 0 0 1 0 0 0 0 0 0 0 0 0 0 0 0 0 0 0 0 0 0 0 0 0 0 0 0 0\n",
            " 0 0 0 0 0 0 0 0 0]\n"
          ],
          "name": "stdout"
        }
      ]
    },
    {
      "cell_type": "code",
      "metadata": {
        "id": "kZSAAQler7Ad",
        "colab_type": "code",
        "colab": {
          "base_uri": "https://localhost:8080/",
          "height": 487
        },
        "outputId": "8652d8d5-4eb9-427a-e9ee-5a49095a39c7"
      },
      "source": [
        "boolean_labels[:2]"
      ],
      "execution_count": 25,
      "outputs": [
        {
          "output_type": "execute_result",
          "data": {
            "text/plain": [
              "[array([False, False, False, False, False, False, False, False, False,\n",
              "        False, False, False, False, False, False, False, False, False,\n",
              "        False,  True, False, False, False, False, False, False, False,\n",
              "        False, False, False, False, False, False, False, False, False,\n",
              "        False, False, False, False, False, False, False, False, False,\n",
              "        False, False, False, False, False, False, False, False, False,\n",
              "        False, False, False, False, False, False, False, False, False,\n",
              "        False, False, False, False, False, False, False, False, False,\n",
              "        False, False, False, False, False, False, False, False, False,\n",
              "        False, False, False, False, False, False, False, False, False,\n",
              "        False, False, False, False, False, False, False, False, False,\n",
              "        False, False, False, False, False, False, False, False, False,\n",
              "        False, False, False, False, False, False, False, False, False,\n",
              "        False, False, False]),\n",
              " array([False, False, False, False, False, False, False, False, False,\n",
              "        False, False, False, False, False, False, False, False, False,\n",
              "        False, False, False, False, False, False, False, False, False,\n",
              "        False, False, False, False, False, False, False, False, False,\n",
              "        False,  True, False, False, False, False, False, False, False,\n",
              "        False, False, False, False, False, False, False, False, False,\n",
              "        False, False, False, False, False, False, False, False, False,\n",
              "        False, False, False, False, False, False, False, False, False,\n",
              "        False, False, False, False, False, False, False, False, False,\n",
              "        False, False, False, False, False, False, False, False, False,\n",
              "        False, False, False, False, False, False, False, False, False,\n",
              "        False, False, False, False, False, False, False, False, False,\n",
              "        False, False, False, False, False, False, False, False, False,\n",
              "        False, False, False])]"
            ]
          },
          "metadata": {
            "tags": []
          },
          "execution_count": 25
        }
      ]
    },
    {
      "cell_type": "code",
      "metadata": {
        "id": "ROg_rel1tXfA",
        "colab_type": "code",
        "colab": {
          "base_uri": "https://localhost:8080/",
          "height": 185
        },
        "outputId": "048a7c35-6b4d-4663-aea1-2f5b2b7462d0"
      },
      "source": [
        "filenames[:10]"
      ],
      "execution_count": 26,
      "outputs": [
        {
          "output_type": "execute_result",
          "data": {
            "text/plain": [
              "['drive/My Drive/Dog Vision/train/000bec180eb18c7604dcecc8fe0dba07.jpg',\n",
              " 'drive/My Drive/Dog Vision/train/001513dfcb2ffafc82cccf4d8bbaba97.jpg',\n",
              " 'drive/My Drive/Dog Vision/train/001cdf01b096e06d78e9e5112d419397.jpg',\n",
              " 'drive/My Drive/Dog Vision/train/00214f311d5d2247d5dfe4fe24b2303d.jpg',\n",
              " 'drive/My Drive/Dog Vision/train/0021f9ceb3235effd7fcde7f7538ed62.jpg',\n",
              " 'drive/My Drive/Dog Vision/train/002211c81b498ef88e1b40b9abf84e1d.jpg',\n",
              " 'drive/My Drive/Dog Vision/train/00290d3e1fdd27226ba27a8ce248ce85.jpg',\n",
              " 'drive/My Drive/Dog Vision/train/002a283a315af96eaea0e28e7163b21b.jpg',\n",
              " 'drive/My Drive/Dog Vision/train/003df8b8a8b05244b1d920bb6cf451f9.jpg',\n",
              " 'drive/My Drive/Dog Vision/train/0042188c895a2f14ef64a918ed9c7b64.jpg']"
            ]
          },
          "metadata": {
            "tags": []
          },
          "execution_count": 26
        }
      ]
    },
    {
      "cell_type": "markdown",
      "metadata": {
        "id": "MUJM3ZkcteFc",
        "colab_type": "text"
      },
      "source": [
        "### Creating our own validation set\n",
        "Since the dataset from Kaggle doesn't come with a validation set,we're going to create our own."
      ]
    },
    {
      "cell_type": "code",
      "metadata": {
        "id": "_gmArP_etyci",
        "colab_type": "code",
        "colab": {}
      },
      "source": [
        "# Setup X & y variables\n",
        "X=filenames\n",
        "y=boolean_labels"
      ],
      "execution_count": 27,
      "outputs": []
    },
    {
      "cell_type": "code",
      "metadata": {
        "id": "oQvKDTyVt6Af",
        "colab_type": "code",
        "colab": {
          "base_uri": "https://localhost:8080/",
          "height": 34
        },
        "outputId": "0ba02c5b-c79f-42ed-a761-4c1e944c8ae0"
      },
      "source": [
        "len(filenames)"
      ],
      "execution_count": 28,
      "outputs": [
        {
          "output_type": "execute_result",
          "data": {
            "text/plain": [
              "10222"
            ]
          },
          "metadata": {
            "tags": []
          },
          "execution_count": 28
        }
      ]
    },
    {
      "cell_type": "markdown",
      "metadata": {
        "id": "Rea3Obart9ck",
        "colab_type": "text"
      },
      "source": [
        "We're going to start off experimenting with ~1000 images and increase as needed"
      ]
    },
    {
      "cell_type": "code",
      "metadata": {
        "id": "_c0ZIKq8uNis",
        "colab_type": "code",
        "colab": {}
      },
      "source": [
        "# Set number of images to use for experimenting\n",
        "NUM_IMAGES=1000 #@param {type:\"slider\",min:1000,max:10000,step:1000}"
      ],
      "execution_count": 29,
      "outputs": []
    },
    {
      "cell_type": "code",
      "metadata": {
        "id": "IYo3UQ1fuorn",
        "colab_type": "code",
        "colab": {
          "base_uri": "https://localhost:8080/",
          "height": 34
        },
        "outputId": "d83beb50-c2fe-455c-f9d6-b9c370440c11"
      },
      "source": [
        "# Let's split our data into train and validation sets\n",
        "from sklearn.model_selection import train_test_split\n",
        "\n",
        "# Split them into training and validation of total size NUM_IMAGES\n",
        "X_train,X_val,y_train,y_val=train_test_split(X[:NUM_IMAGES],\n",
        "                                             y[:NUM_IMAGES],\n",
        "                                             test_size=0.2,\n",
        "                                             random_state=42)\n",
        "\n",
        "len(X_train),len(y_train),len(X_val),len(y_val)"
      ],
      "execution_count": 30,
      "outputs": [
        {
          "output_type": "execute_result",
          "data": {
            "text/plain": [
              "(800, 800, 200, 200)"
            ]
          },
          "metadata": {
            "tags": []
          },
          "execution_count": 30
        }
      ]
    },
    {
      "cell_type": "code",
      "metadata": {
        "id": "OYNKmqIpvQaB",
        "colab_type": "code",
        "colab": {
          "base_uri": "https://localhost:8080/",
          "height": 571
        },
        "outputId": "eed7d5d8-4a88-4184-ff48-4065f196a421"
      },
      "source": [
        "# Let's have a geez at the training data\n",
        "X_train[:5],y_train[:2]"
      ],
      "execution_count": 31,
      "outputs": [
        {
          "output_type": "execute_result",
          "data": {
            "text/plain": [
              "(['drive/My Drive/Dog Vision/train/00bee065dcec471f26394855c5c2f3de.jpg',\n",
              "  'drive/My Drive/Dog Vision/train/0d2f9e12a2611d911d91a339074c8154.jpg',\n",
              "  'drive/My Drive/Dog Vision/train/1108e48ce3e2d7d7fb527ae6e40ab486.jpg',\n",
              "  'drive/My Drive/Dog Vision/train/0dc3196b4213a2733d7f4bdcd41699d3.jpg',\n",
              "  'drive/My Drive/Dog Vision/train/146fbfac6b5b1f0de83a5d0c1b473377.jpg'],\n",
              " [array([False, False, False, False, False, False, False, False, False,\n",
              "         False, False, False, False, False, False, False, False, False,\n",
              "         False, False, False, False, False, False, False, False,  True,\n",
              "         False, False, False, False, False, False, False, False, False,\n",
              "         False, False, False, False, False, False, False, False, False,\n",
              "         False, False, False, False, False, False, False, False, False,\n",
              "         False, False, False, False, False, False, False, False, False,\n",
              "         False, False, False, False, False, False, False, False, False,\n",
              "         False, False, False, False, False, False, False, False, False,\n",
              "         False, False, False, False, False, False, False, False, False,\n",
              "         False, False, False, False, False, False, False, False, False,\n",
              "         False, False, False, False, False, False, False, False, False,\n",
              "         False, False, False, False, False, False, False, False, False,\n",
              "         False, False, False]),\n",
              "  array([False, False, False, False, False, False, False, False, False,\n",
              "         False, False, False, False, False, False, False, False, False,\n",
              "         False, False,  True, False, False, False, False, False, False,\n",
              "         False, False, False, False, False, False, False, False, False,\n",
              "         False, False, False, False, False, False, False, False, False,\n",
              "         False, False, False, False, False, False, False, False, False,\n",
              "         False, False, False, False, False, False, False, False, False,\n",
              "         False, False, False, False, False, False, False, False, False,\n",
              "         False, False, False, False, False, False, False, False, False,\n",
              "         False, False, False, False, False, False, False, False, False,\n",
              "         False, False, False, False, False, False, False, False, False,\n",
              "         False, False, False, False, False, False, False, False, False,\n",
              "         False, False, False, False, False, False, False, False, False,\n",
              "         False, False, False])])"
            ]
          },
          "metadata": {
            "tags": []
          },
          "execution_count": 31
        }
      ]
    },
    {
      "cell_type": "markdown",
      "metadata": {
        "id": "ad0CjaXAvar0",
        "colab_type": "text"
      },
      "source": [
        "## Preprocessing images (turning images into tensors)\n",
        "\n",
        "To preprocess our images into Tensors we're going to write a function which does a few things:\n",
        "1. Take an image filepath as input\n",
        "2. Use TensorFlow to read the file and save it to a variable, `image`\n",
        "3. Turn our `image` (a jpg) into Tensors\n",
        "4. Resize the `image` to be a shape of (224,224)\n",
        "5. Return the modified `image`\n",
        "\n",
        "Before we do, let's see what importing an image looks like."
      ]
    },
    {
      "cell_type": "code",
      "metadata": {
        "id": "nQJthwaRwWlz",
        "colab_type": "code",
        "colab": {
          "base_uri": "https://localhost:8080/",
          "height": 34
        },
        "outputId": "455d6bd9-effc-4edf-92f3-2acb23f56e6f"
      },
      "source": [
        "# Convert image to NumPy array\n",
        "from matplotlib.pyplot import imread\n",
        "image = imread(filenames[42])\n",
        "image.shape"
      ],
      "execution_count": 32,
      "outputs": [
        {
          "output_type": "execute_result",
          "data": {
            "text/plain": [
              "(257, 350, 3)"
            ]
          },
          "metadata": {
            "tags": []
          },
          "execution_count": 32
        }
      ]
    },
    {
      "cell_type": "code",
      "metadata": {
        "id": "c1UZOIPcyEKK",
        "colab_type": "code",
        "colab": {
          "base_uri": "https://localhost:8080/",
          "height": 269
        },
        "outputId": "4c4e0fe2-8e63-4408-b2a4-5c734088d5fc"
      },
      "source": [
        "image[:2]"
      ],
      "execution_count": 33,
      "outputs": [
        {
          "output_type": "execute_result",
          "data": {
            "text/plain": [
              "array([[[ 89, 137,  87],\n",
              "        [ 76, 124,  74],\n",
              "        [ 63, 111,  59],\n",
              "        ...,\n",
              "        [ 76, 134,  86],\n",
              "        [ 76, 134,  86],\n",
              "        [ 76, 134,  86]],\n",
              "\n",
              "       [[ 72, 119,  73],\n",
              "        [ 67, 114,  68],\n",
              "        [ 63, 111,  63],\n",
              "        ...,\n",
              "        [ 75, 131,  84],\n",
              "        [ 74, 132,  84],\n",
              "        [ 74, 131,  86]]], dtype=uint8)"
            ]
          },
          "metadata": {
            "tags": []
          },
          "execution_count": 33
        }
      ]
    },
    {
      "cell_type": "code",
      "metadata": {
        "id": "q9k5ga2Oylem",
        "colab_type": "code",
        "colab": {
          "base_uri": "https://localhost:8080/",
          "height": 286
        },
        "outputId": "a4e592d9-189f-4a73-d19a-43bbda061e7a"
      },
      "source": [
        "# turn images into a tensor\n",
        "tf.constant(image)[:2]"
      ],
      "execution_count": 34,
      "outputs": [
        {
          "output_type": "execute_result",
          "data": {
            "text/plain": [
              "<tf.Tensor: shape=(2, 350, 3), dtype=uint8, numpy=\n",
              "array([[[ 89, 137,  87],\n",
              "        [ 76, 124,  74],\n",
              "        [ 63, 111,  59],\n",
              "        ...,\n",
              "        [ 76, 134,  86],\n",
              "        [ 76, 134,  86],\n",
              "        [ 76, 134,  86]],\n",
              "\n",
              "       [[ 72, 119,  73],\n",
              "        [ 67, 114,  68],\n",
              "        [ 63, 111,  63],\n",
              "        ...,\n",
              "        [ 75, 131,  84],\n",
              "        [ 74, 132,  84],\n",
              "        [ 74, 131,  86]]], dtype=uint8)>"
            ]
          },
          "metadata": {
            "tags": []
          },
          "execution_count": 34
        }
      ]
    },
    {
      "cell_type": "markdown",
      "metadata": {
        "id": "qffnoSjly9H5",
        "colab_type": "text"
      },
      "source": [
        "Now we've seen what an image looks like as a Tensor, let's make a function to preprocess them.\n",
        "\n",
        "1. Take an image filepath as input\n",
        "2. Use TensorFlow to read the file and save it to a variable, `image`\n",
        "3. Turn our `image` (a jpg) into Tensors\n",
        "4. Normalize our image (convert color channel values from 0-255 to 0-1)\n",
        "5. Resize the `image` to be a shape of (224,224)\n",
        "6. Return the modified `image`"
      ]
    },
    {
      "cell_type": "code",
      "metadata": {
        "id": "j7Jv2zUSPH1U",
        "colab_type": "code",
        "colab": {}
      },
      "source": [
        "# Define image size\n",
        "IMG_SIZE=224\n",
        "\n",
        "# Create a function for preprocessing images\n",
        "def process_image(image_path,img_size=IMG_SIZE):\n",
        "  \"\"\"\n",
        "  Takes an image file path and turns the image into a Tensor.\n",
        "  \"\"\"\n",
        "\n",
        "  # Read in an image file\n",
        "  image=tf.io.read_file(image_path)\n",
        "  # Turn the jpeg image into numerical Tensor with 3 colour channels(Red,Green,Blue)\n",
        "  image=tf.image.decode_jpeg(image,channels=3)\n",
        "  # Convert the colour channel values from 0-255 to 0-1 values\n",
        "  image=tf.image.convert_image_dtype(image,tf.float32)\n",
        "  # Resize the image to our desired value (224,224)\n",
        "  image=tf.image.resize(image,size=[img_size,img_size])\n",
        "\n",
        "  return image\n"
      ],
      "execution_count": 42,
      "outputs": []
    },
    {
      "cell_type": "markdown",
      "metadata": {
        "id": "-gNBIv-lSDRC",
        "colab_type": "text"
      },
      "source": [
        "## Turning our data into batches\n",
        "\n",
        "Why turn our data into batches?\n",
        "\n",
        "Let's say you're trying to process 10,000+ images in one go... they all might not fit into memory.\n",
        "\n",
        "So that's why we do about 32 (this is the batch size) images at a time (you can manually adjust the batch size if need be).\n",
        "\n",
        "In order to use TensorFlow effectively, we need our data in the form of Tensor tuples which look like this:\n",
        "`(image,label)` \n"
      ]
    },
    {
      "cell_type": "code",
      "metadata": {
        "id": "3yUVlsyNbZtb",
        "colab_type": "code",
        "colab": {}
      },
      "source": [
        "# Create a simple function to return a tuple (image,label)\n",
        "def get_image_label(image_path,label):\n",
        "  \"\"\"\n",
        "  Takes an image file path name and the assosciated label,\n",
        "  processes the image and returns a tuple of (image,label)\n",
        "  \"\"\"\n",
        "  image=process_image(image_path)\n",
        "  return image,label\n"
      ],
      "execution_count": 40,
      "outputs": []
    },
    {
      "cell_type": "code",
      "metadata": {
        "id": "vyLbrWNSetKU",
        "colab_type": "code",
        "colab": {
          "base_uri": "https://localhost:8080/",
          "height": 1000
        },
        "outputId": "cfcabe3d-b00d-4fb6-96ae-c370a029e83e"
      },
      "source": [
        "# Demo of the above\n",
        "(process_image(X[42]),tf.constant(y[42]))"
      ],
      "execution_count": 44,
      "outputs": [
        {
          "output_type": "execute_result",
          "data": {
            "text/plain": [
              "(<tf.Tensor: shape=(224, 224, 3), dtype=float32, numpy=\n",
              " array([[[0.3264178 , 0.5222886 , 0.3232816 ],\n",
              "         [0.2537167 , 0.44366494, 0.24117757],\n",
              "         [0.25699762, 0.4467087 , 0.23893751],\n",
              "         ...,\n",
              "         [0.29325107, 0.5189916 , 0.3215547 ],\n",
              "         [0.29721776, 0.52466875, 0.33030328],\n",
              "         [0.2948505 , 0.5223015 , 0.33406618]],\n",
              " \n",
              "        [[0.25903144, 0.4537807 , 0.27294815],\n",
              "         [0.24375686, 0.4407019 , 0.2554778 ],\n",
              "         [0.2838985 , 0.47213382, 0.28298813],\n",
              "         ...,\n",
              "         [0.2785345 , 0.5027992 , 0.31004712],\n",
              "         [0.28428748, 0.5108719 , 0.32523635],\n",
              "         [0.28821915, 0.5148036 , 0.32916805]],\n",
              " \n",
              "        [[0.20941195, 0.40692952, 0.25792548],\n",
              "         [0.24045378, 0.43900946, 0.2868911 ],\n",
              "         [0.29001117, 0.47937486, 0.32247734],\n",
              "         ...,\n",
              "         [0.26074055, 0.48414773, 0.30125174],\n",
              "         [0.27101526, 0.49454468, 0.32096273],\n",
              "         [0.27939945, 0.5029289 , 0.32934693]],\n",
              " \n",
              "        ...,\n",
              " \n",
              "        [[0.00634795, 0.03442048, 0.0258106 ],\n",
              "         [0.01408936, 0.04459917, 0.0301715 ],\n",
              "         [0.01385712, 0.04856448, 0.02839671],\n",
              "         ...,\n",
              "         [0.4220516 , 0.39761978, 0.21622123],\n",
              "         [0.47932503, 0.45370543, 0.2696505 ],\n",
              "         [0.48181024, 0.45828083, 0.27004552]],\n",
              " \n",
              "        [[0.00222061, 0.02262166, 0.03176915],\n",
              "         [0.01008397, 0.03669046, 0.02473482],\n",
              "         [0.00608852, 0.03890046, 0.01207283],\n",
              "         ...,\n",
              "         [0.36070833, 0.33803678, 0.16216145],\n",
              "         [0.42499566, 0.3976801 , 0.21701711],\n",
              "         [0.4405433 , 0.4139589 , 0.23183356]],\n",
              " \n",
              "        [[0.05608025, 0.06760229, 0.10401428],\n",
              "         [0.05441074, 0.07435255, 0.05428263],\n",
              "         [0.04734282, 0.07581793, 0.02060942],\n",
              "         ...,\n",
              "         [0.3397559 , 0.31265694, 0.14725602],\n",
              "         [0.387725  , 0.360274  , 0.18714729],\n",
              "         [0.43941984, 0.41196886, 0.23884216]]], dtype=float32)>,\n",
              " <tf.Tensor: shape=(120,), dtype=bool, numpy=\n",
              " array([False, False, False, False, False, False, False, False, False,\n",
              "        False, False, False, False, False, False, False, False, False,\n",
              "        False, False, False, False, False, False, False, False, False,\n",
              "        False, False, False, False, False, False, False, False, False,\n",
              "         True, False, False, False, False, False, False, False, False,\n",
              "        False, False, False, False, False, False, False, False, False,\n",
              "        False, False, False, False, False, False, False, False, False,\n",
              "        False, False, False, False, False, False, False, False, False,\n",
              "        False, False, False, False, False, False, False, False, False,\n",
              "        False, False, False, False, False, False, False, False, False,\n",
              "        False, False, False, False, False, False, False, False, False,\n",
              "        False, False, False, False, False, False, False, False, False,\n",
              "        False, False, False, False, False, False, False, False, False,\n",
              "        False, False, False])>)"
            ]
          },
          "metadata": {
            "tags": []
          },
          "execution_count": 44
        }
      ]
    },
    {
      "cell_type": "markdown",
      "metadata": {
        "id": "Dphr5Njce3Ni",
        "colab_type": "text"
      },
      "source": [
        "Now we've got a way to turn our data into tuples of Tensors\n",
        "in the form: `(image,label)`, let's make a function to turn all of our data (`X`,`y`) into batches!"
      ]
    },
    {
      "cell_type": "code",
      "metadata": {
        "id": "qNlHyLw8ioRK",
        "colab_type": "code",
        "colab": {}
      },
      "source": [
        "# Define the batch size, 32 is a good start\n",
        "BATCH_SIZE=32\n",
        "\n",
        "# Create a function to turn data into batches\n",
        "def create_data_batches(X,y=None,batch_size=BATCH_SIZE,valid_data=False,test_data=False):\n",
        "  \"\"\"\n",
        "  Creates batches of data out of image (X) and label (y) pairs.\n",
        "  Shuffles the data if it's training data but doesn't shuffle if it's validation data.\n",
        "  Also accepts test data as input (no labels).\n",
        "  \"\"\"\n",
        "  # If the data is a test dataset,we probably don't have labels\n",
        "  if test_data:\n",
        "    print(\"Creating test data batches...\")\n",
        "    data=tf.data.Dataset.from_tensor_slices((tf.constant(X))) # only filepaths (no labels)\n",
        "    data_batch=data.map(process_image).batch(batch_size)\n",
        "    return data_batch\n",
        "  # If the data is a valid dataset, we don't need to shuffle it\n",
        "  elif valid_data:\n",
        "    print(\"Creating validation data batches...\")\n",
        "    data=tf.data.Dataset.from_tensor_slices((tf.constant(X) , # file paths\n",
        "                                             tf.constant(y))) # labels\n",
        "    data_batch=data.map(get_image_label).batch(batch_size)     \n",
        "    return data_batch  \n",
        "  else:\n",
        "    print(\"Creating training data batches...\")\n",
        "    # Turn filepaths and labels into Tensors    \n",
        "    data=tf.data.Dataset.from_tensor_slices((tf.constant(X),\n",
        "                                             tf.constant(y))) \n",
        "    # Shuffling pathnames and labels before mapping image processor function is faster than shuffling images\n",
        "    data=data.shuffle(buffer_size=len(X))\n",
        "\n",
        "    # Create (image,label) tuples (this also turns the image paths into a preprocessed image)\n",
        "    data=data.map(get_image_label)\n",
        "\n",
        "    # Turn the training data into batches\n",
        "    data_batch=data.batch(batch_size) \n",
        "    return data_batch            \n"
      ],
      "execution_count": 45,
      "outputs": []
    },
    {
      "cell_type": "code",
      "metadata": {
        "id": "QJBp_ABPnNFq",
        "colab_type": "code",
        "colab": {
          "base_uri": "https://localhost:8080/",
          "height": 50
        },
        "outputId": "31a5fa83-0cba-49da-e8c5-4633edf5076b"
      },
      "source": [
        "# Create training and validation data batches\n",
        "train_data=create_data_batches(X_train,y_train)\n",
        "val_data=create_data_batches(X_val,y_val,valid_data=True)"
      ],
      "execution_count": 46,
      "outputs": [
        {
          "output_type": "stream",
          "text": [
            "Creating training data batches...\n",
            "Creating validation data batches...\n"
          ],
          "name": "stdout"
        }
      ]
    },
    {
      "cell_type": "code",
      "metadata": {
        "id": "VpFJTav6njtF",
        "colab_type": "code",
        "colab": {
          "base_uri": "https://localhost:8080/",
          "height": 84
        },
        "outputId": "939a8f11-6a70-42df-b355-cd5e6a573d9b"
      },
      "source": [
        "# Check out the different attributes of our data batches\n",
        "train_data.element_spec,val_data.element_spec"
      ],
      "execution_count": 47,
      "outputs": [
        {
          "output_type": "execute_result",
          "data": {
            "text/plain": [
              "((TensorSpec(shape=(None, 224, 224, 3), dtype=tf.float32, name=None),\n",
              "  TensorSpec(shape=(None, 120), dtype=tf.bool, name=None)),\n",
              " (TensorSpec(shape=(None, 224, 224, 3), dtype=tf.float32, name=None),\n",
              "  TensorSpec(shape=(None, 120), dtype=tf.bool, name=None)))"
            ]
          },
          "metadata": {
            "tags": []
          },
          "execution_count": 47
        }
      ]
    },
    {
      "cell_type": "code",
      "metadata": {
        "id": "PXFN4HFBnz4H",
        "colab_type": "code",
        "colab": {}
      },
      "source": [
        ""
      ],
      "execution_count": null,
      "outputs": []
    }
  ]
}